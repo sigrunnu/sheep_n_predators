{
 "cells": [
  {
   "cell_type": "code",
   "execution_count": 2,
   "metadata": {},
   "outputs": [],
   "source": [
    "import pandas as pd"
   ]
  },
  {
   "attachments": {},
   "cell_type": "markdown",
   "metadata": {},
   "source": [
    "# Meråker data (original dataen)"
   ]
  },
  {
   "cell_type": "code",
   "execution_count": 26,
   "metadata": {},
   "outputs": [],
   "source": [
    "k2015 = pd.read_csv('../data/original/kaasa_2015.csv')\n",
    "k2016 = pd.read_csv('../data/original/kaasa_2016.csv')\n",
    "k2017 = pd.read_csv('../data/original/kaasa_2017.csv')\n",
    "k2018 = pd.read_csv('../data/original/kaasa_2018.csv')\n",
    "k2019 = pd.read_csv('../data/original/kaasa_2019.csv')\n",
    "k2020 = pd.read_csv('../data/original/kaasa_2020.csv')\n",
    "k2021 = pd.read_csv('../data/original/kaasa_2021.csv')\n",
    "\n",
    "total = [k2015, k2016, k2017, k2018, k2019, k2020, k2021]\n",
    "\n",
    "df = pd.concat(total, axis=0, ignore_index=True)"
   ]
  },
  {
   "cell_type": "code",
   "execution_count": 27,
   "metadata": {},
   "outputs": [
    {
     "name": "stdout",
     "output_type": "stream",
     "text": [
      "Totalt antall rader: 463758\n",
      "Totalt antall attributter: 9\n",
      "Totalt antall sauer: 252\n"
     ]
    }
   ],
   "source": [
    "print(\"Totalt antall rader:\", df.shape[0])\n",
    "print(\"Totalt antall attributter:\", df.shape[1])\n",
    "print(\"Totalt antall sauer:\", df.nunique().individual) # sikkert flere som har gått over flere sesonger. "
   ]
  },
  {
   "cell_type": "code",
   "execution_count": 28,
   "metadata": {},
   "outputs": [
    {
     "name": "stdout",
     "output_type": "stream",
     "text": [
      "Antall rader: 33226\n",
      "106\n",
      "--------------------------------\n",
      "Antall rader: 60957\n",
      "103\n",
      "--------------------------------\n",
      "Antall rader: 47117\n",
      "102\n",
      "--------------------------------\n",
      "Antall rader: 45249\n",
      "98\n",
      "--------------------------------\n",
      "Antall rader: 61952\n",
      "109\n",
      "--------------------------------\n",
      "Antall rader: 69559\n",
      "105\n",
      "--------------------------------\n",
      "Antall rader: 145698\n",
      "121\n",
      "--------------------------------\n",
      "Total antall sauer: 744\n"
     ]
    }
   ],
   "source": [
    "# For hvert år\n",
    "tot_sheep = 0\n",
    "\n",
    "for file in total:\n",
    "    print(\"Antall rader:\", file.shape[0])\n",
    "    print(file.nunique().individual)\n",
    "    tot_sheep += file.nunique().individual\n",
    "    print('--------------------------------')\n",
    "\n",
    "print('Total antall sauer:', tot_sheep)"
   ]
  },
  {
   "attachments": {},
   "cell_type": "markdown",
   "metadata": {},
   "source": [
    "# Rovbase (original)"
   ]
  },
  {
   "cell_type": "code",
   "execution_count": 11,
   "metadata": {},
   "outputs": [],
   "source": [
    "rovbase = pd.read_csv('../data/rovbase/original/rovviltskader_meraker_2015-2021.csv')"
   ]
  },
  {
   "cell_type": "code",
   "execution_count": 12,
   "metadata": {},
   "outputs": [
    {
     "name": "stdout",
     "output_type": "stream",
     "text": [
      "Antall rader: 379\n",
      "Antall attributter: 27\n"
     ]
    }
   ],
   "source": [
    "print(\"Antall rader:\", rovbase.shape[0])\n",
    "print(\"Antall attributter:\", rovbase.shape[1])"
   ]
  }
 ],
 "metadata": {
  "kernelspec": {
   "display_name": "Python 3",
   "language": "python",
   "name": "python3"
  },
  "language_info": {
   "codemirror_mode": {
    "name": "ipython",
    "version": 3
   },
   "file_extension": ".py",
   "mimetype": "text/x-python",
   "name": "python",
   "nbconvert_exporter": "python",
   "pygments_lexer": "ipython3",
   "version": "3.10.10"
  },
  "orig_nbformat": 4,
  "vscode": {
   "interpreter": {
    "hash": "45328cea26b25948b97b0f37f1a12ccfd1fd6868ffd79945aa9cfb5de8c131d1"
   }
  }
 },
 "nbformat": 4,
 "nbformat_minor": 2
}
