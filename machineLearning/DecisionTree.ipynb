{
 "cells": [
  {
   "cell_type": "code",
   "execution_count": 1,
   "metadata": {},
   "outputs": [],
   "source": [
    "from sklearn.tree import DecisionTreeClassifier\n",
    "import plotly.express as px\n",
    "import plotly as pl\n",
    "from sklearn.model_selection import train_test_split\n",
    "from sklearn.metrics import accuracy_score, confusion_matrix, ConfusionMatrixDisplay, classification_report\n",
    "from scaling import standardize, normalize\n",
    "import matplotlib.pyplot as plt\n",
    "import pandas as pd\n",
    "import collections, numpy\n",
    "from sklearn.decomposition import PCA\n",
    "import matplotlib.pyplot as plt"
   ]
  },
  {
   "cell_type": "code",
   "execution_count": 44,
   "metadata": {},
   "outputs": [],
   "source": [
    "df2015 = pd.read_csv('../data/kaasa/kaasa_2015.csv', index_col=None, header=0)\n",
    "df2016 = pd.read_csv('../data/kaasa/kaasa_2016.csv', index_col=None, header=0)\n",
    "df2017 = pd.read_csv('../data/kaasa/kaasa_2017.csv', index_col=None, header=0)\n",
    "df2018 = pd.read_csv('../data/kaasa/kaasa_2018.csv', index_col=None, header=0)\n",
    "df2019 = pd.read_csv('../data/kaasa/kaasa_2019.csv', index_col=None, header=0)\n",
    "df2020 = pd.read_csv('../data/kaasa/kaasa_2020.csv', index_col=None, header=0)\n",
    "df2021 = pd.read_csv('../data/kaasa/kaasa_2021.csv', index_col=None, header=0)\n",
    "\n",
    "files = [df2015, df2016, df2017, df2018,df2019, df2020, df2021]\n",
    "\n",
    "df = pd.concat(files, axis=0, ignore_index=True)\n",
    "\n",
    "df['date_time'] = pd.to_datetime(df['date_time'])"
   ]
  },
  {
   "cell_type": "code",
   "execution_count": 81,
   "metadata": {},
   "outputs": [],
   "source": [
    "df = standardize(df, ['velocity', 'altitude', 'latitude', 'longitude', 'temperature',  'date_time', 'sin_time', 'cos_time']) # standarize the data\n",
    "df = normalize(df, ['velocity', 'altitude', 'latitude', 'longitude', 'temperature', 'date_time', 'sin_time', 'cos_time'], -1, 1) # normalize the data\n",
    "sheep_data = df.loc[:,['velocity', 'altitude', 'attack', 'latitude', 'longitude', 'temperature', 'individual', 'date_time']]\n",
    "\n",
    "\n",
    "'''\n",
    "# create a list of unique individuals in the dataset\n",
    "individuals = sheep_data['individual'].unique()\n",
    "\n",
    "# split the individuals into training and test sets\n",
    "train_individuals, test_individuals = train_test_split(individuals, test_size=0.2, random_state=42)\n",
    "\n",
    "# split the dataframe into training and test sets based on the individual column and remove individual after\n",
    "train_df = sheep_data[sheep_data['individual'].isin(train_individuals)].drop('individual', axis=1)\n",
    "test_df = sheep_data[sheep_data['individual'].isin(test_individuals)].drop('individual', axis=1)\n",
    "sheep_data = sheep_data.drop('individual', axis=1)\n",
    "\n",
    "\n",
    "\n",
    "#Create training and test sets\n",
    "X_train = train_df.drop('attack', axis=1)\n",
    "y_train = train_df['attack']\n",
    "X_test = test_df.drop('attack', axis=1)\n",
    "y_test = test_df['attack']\n",
    "'''\n",
    "\n",
    "X_train, X_test, y_train, y_test = train_test_split(sheep_data.drop(['attack'], axis=1),\n",
    "                                                    sheep_data['attack'],\n",
    "                                                    test_size=0.2,\n",
    "                                                    random_state=42)"
   ]
  },
  {
   "cell_type": "code",
   "execution_count": 82,
   "metadata": {},
   "outputs": [
    {
     "name": "stdout",
     "output_type": "stream",
     "text": [
      "Predictet values: Counter({0: 47678, 1: 222})\n",
      "Test values: Counter({0: 45744, 1: 2156})\n",
      "Accuracy of decision tree: 95.56%\n",
      "velocity : 0.15096701816919014\n",
      "altitude : 0.0519457971273219\n",
      "attack : 0.20620296547246664\n",
      "latitude : 0.3674253072695365\n",
      "longitude : 0.22345891196148496\n",
      "temperature : 0.15096701816919014\n",
      "Confusion matrix:\n",
      " [[45648    96]\n",
      " [ 2030   126]]\n"
     ]
    },
    {
     "data": {
      "image/png": "[encoded data removed]",
      "text/plain": [
       "<Figure size 640x480 with 2 Axes>"
      ]
     },
     "metadata": {},
     "output_type": "display_data"
    },
    {
     "name": "stdout",
     "output_type": "stream",
     "text": [
      "Classification report:\n",
      "               precision    recall  f1-score   support\n",
      "\n",
      "           0       0.96      1.00      0.98     45744\n",
      "           1       0.57      0.06      0.11      2156\n",
      "\n",
      "    accuracy                           0.96     47900\n",
      "   macro avg       0.76      0.53      0.54     47900\n",
      "weighted avg       0.94      0.96      0.94     47900\n",
      "\n"
     ]
    }
   ],
   "source": [
    "# Train a decision tree classifier\n",
    "dt_model = DecisionTreeClassifier(max_depth=10)\n",
    "dt_model.fit(X_train, y_train)\n",
    "\n",
    "# Make predictions on the test set\n",
    "y_pred = dt_model.predict(X_test)\n",
    "\n",
    "# \n",
    "counter = collections.Counter(y_pred)\n",
    "print('Predictet values:', counter)\n",
    "counter1 = collections.Counter(y_test)\n",
    "print('Test values:',counter1)\n",
    "\n",
    "# Evaluate the model's performance\n",
    "accuracy = accuracy_score(y_test, y_pred)\n",
    "print(\"Accuracy of decision tree: {:.2f}%\".format(accuracy * 100))\n",
    "\n",
    "\n",
    "# Get the feature importances\n",
    "importances = dt_model.feature_importances_\n",
    "\n",
    "# Print the feature importances\n",
    "for i, feature in enumerate(sheep_data.columns):\n",
    "    print(feature, ':', importances[i-1])\n",
    "\n",
    "# Compute the confusion matrix\n",
    "conf_matrix = confusion_matrix(y_test, y_pred)\n",
    "print(\"Confusion matrix:\\n\", conf_matrix)\n",
    "cm_display = ConfusionMatrixDisplay(confusion_matrix = conf_matrix, display_labels = [False, True])\n",
    "\n",
    "cm_display.plot()\n",
    "plt.show()\n",
    "# Compute classification report\n",
    "report = classification_report(y_test, y_pred)\n",
    "print(\"Classification report:\\n\", report)"
   ]
  }
 ],
 "metadata": {
  "kernelspec": {
   "display_name": "Python 3",
   "language": "python",
   "name": "python3"
  },
  "language_info": {
   "codemirror_mode": {
    "name": "ipython",
    "version": 3
   },
   "file_extension": ".py",
   "mimetype": "text/x-python",
   "name": "python",
   "nbconvert_exporter": "python",
   "pygments_lexer": "ipython3",
   "version": "3.10.6"
  },
  "orig_nbformat": 4,
  "vscode": {
   "interpreter": {
    "hash": "aee8b7b246df8f9039afb4144a1f6fd8d2ca17a180786b69acc140d282b71a49"
   }
  }
 },
 "nbformat": 4,
 "nbformat_minor": 2
}
