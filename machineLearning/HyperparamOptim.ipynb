{
 "cells": [
  {
   "cell_type": "code",
   "execution_count": 1,
   "metadata": {},
   "outputs": [],
   "source": [
    "import pandas as pd\n",
    "import numpy as np\n",
    "from scaling import standardize, normalize\n",
    "from sklearn.model_selection import train_test_split\n",
    "from sklearn.ensemble import RandomForestClassifier"
   ]
  },
  {
   "cell_type": "code",
   "execution_count": 2,
   "metadata": {},
   "outputs": [],
   "source": [
    "\n",
    "df2015 = pd.read_csv('../data/kaasa/kaasa_2015.csv', index_col=None, header=0)\n",
    "df2016 = pd.read_csv('../data/kaasa/kaasa_2016.csv', index_col=None, header=0)\n",
    "df2017 = pd.read_csv('../data/kaasa/kaasa_2017.csv', index_col=None, header=0)\n",
    "df2018 = pd.read_csv('../data/kaasa/kaasa_2018.csv', index_col=None, header=0)\n",
    "df2019 = pd.read_csv('../data/kaasa/kaasa_2019.csv', index_col=None, header=0)\n",
    "df2020 = pd.read_csv('../data/kaasa/kaasa_2020.csv', index_col=None, header=0)\n",
    "df2021 = pd.read_csv('../data/kaasa/kaasa_2021.csv', index_col=None, header=0)\n",
    "\n",
    "all_files = [df2015, df2016, df2017, df2018, df2019, df2020, df2021]\n",
    "\n",
    "df = pd.concat(all_files, axis=0, ignore_index=True)\n",
    "\n",
    "df['date_time'] = pd.to_datetime(df['date_time'])\n",
    "\n",
    "df = df.drop(columns=['source_id', 'individual', 'owner_id', 'name',  'distance', 'sin_time', 'cos_time', 'date_time',  'longitude', 'latitude', 'temperature', 'altitude'])\n",
    "df = standardize(df, ['velocity', 'angle']) # standarize the data\n",
    "df = normalize(df, ['velocity', 'angle'], 0, 1) # normalize the data\n",
    "\n",
    "X = df.drop(['attack'], axis=1) # Features\n",
    "y = df['attack'] # Target variable"
   ]
  },
  {
   "cell_type": "code",
   "execution_count": 3,
   "metadata": {},
   "outputs": [],
   "source": [
    "from sklearn.model_selection import GridSearchCV, RandomizedSearchCV\n",
    "\n",
    "X_train, X_test, y_train, y_test = train_test_split(X, y, test_size=0.2, random_state=42)\n",
    "\n",
    "# Define hyperparameter grid to test\n",
    "rs_space= {   \n",
    "    'random_state': np.array([42]), \n",
    "    'n_estimators':np.arange(50, 500, step=50),\n",
    "    'max_depth':list(np.arange(10, 100, step=10)) + [None],\n",
    "    }\n",
    "\n",
    "# Initialize and fit the random forest classifier\n",
    "rf = RandomForestClassifier()\n",
    "\n",
    "# First do a random search on a broad range of values\n",
    "rf_random = RandomizedSearchCV(rf, rs_space, n_iter=200, scoring='recall', n_jobs=-1, cv=3)\n",
    "model_random = rf_random.fit(X, y)\n",
    "\n",
    "print('Best hyperparameters are: '+ str(model_random.best_params_))\n",
    "print('Best score is: '+ str(model_random.best_score_))"
   ]
  },
  {
   "cell_type": "code",
   "execution_count": null,
   "metadata": {},
   "outputs": [],
   "source": [
    "# Then narrow the grid space down for grid search, and use the values we got in random search\n",
    "param_grid = {\n",
    "    'random_state': [42, 123, 456],\n",
    "    'n_estimators': [50, 100, 200],\n",
    "}\n",
    "\n",
    "grid_search = GridSearchCV(rf, param_grid, cv=3, scoring='recall', n_jobs=-1)\n",
    "grid_search.fit(X, y)\n",
    "\n",
    "print(\"Optimal parameters: \", grid_search.best_params_)\n",
    "print(\"Best recall score: \", grid_search.best_score_)"
   ]
  }
 ],
 "metadata": {
  "kernelspec": {
   "display_name": "Python 3",
   "language": "python",
   "name": "python3"
  },
  "language_info": {
   "codemirror_mode": {
    "name": "ipython",
    "version": 3
   },
   "file_extension": ".py",
   "mimetype": "text/x-python",
   "name": "python",
   "nbconvert_exporter": "python",
   "pygments_lexer": "ipython3",
   "version": "3.10.10"
  },
  "orig_nbformat": 4,
  "vscode": {
   "interpreter": {
    "hash": "45328cea26b25948b97b0f37f1a12ccfd1fd6868ffd79945aa9cfb5de8c131d1"
   }
  }
 },
 "nbformat": 4,
 "nbformat_minor": 2
}
