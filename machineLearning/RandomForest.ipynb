{
 "cells": [
  {
   "cell_type": "code",
   "execution_count": 67,
   "metadata": {},
   "outputs": [],
   "source": [
    "import pandas as pd\n",
    "from scaling import standardize, normalize\n",
    "from sklearn.model_selection import train_test_split\n",
    "from sklearn.ensemble import RandomForestClassifier\n",
    "from sklearn.metrics import accuracy_score\n",
    "from collections import Counter\n",
    "\n",
    "import matplotlib.pyplot as plt\n",
    "from sklearn.metrics import ConfusionMatrixDisplay, confusion_matrix, classification_report\n"
   ]
  },
  {
   "cell_type": "code",
   "execution_count": 55,
   "metadata": {},
   "outputs": [],
   "source": [
    "\n",
    "#df2015 = pd.read_csv('../data/kaasa/kaasa_2015.csv', index_col=None, header=0)\n",
    "df2016 = pd.read_csv('../data/kaasa/kaasa_2016.csv', index_col=None, header=0)\n",
    "df2017 = pd.read_csv('../data/kaasa/kaasa_2017.csv', index_col=None, header=0)\n",
    "df2018 = pd.read_csv('../data/kaasa/kaasa_2018.csv', index_col=None, header=0)\n",
    "#df2019 = pd.read_csv('../data/kaasa/kaasa_2019.csv', index_col=None, header=0)\n",
    "df2020 = pd.read_csv('../data/kaasa/kaasa_2020.csv', index_col=None, header=0)\n",
    "#df2021 = pd.read_csv('../data/kaasa/kaasa_2021.csv', index_col=None, header=0)\n",
    "\n",
    "attack_files = [df2016, df2017, df2018, df2020]\n",
    "#all_files = [df2015, df2016, df2017, df2018, df2019, df2020, df2021]\n",
    "\n",
    "df = pd.concat(attack_files, axis=0, ignore_index=True)\n",
    "\n",
    "df = df.drop(columns=['source_id', 'individual', 'owner_id', 'name', 'longitude', 'latitude', 'date_time', 'distance',  'temperature', 'sin_time', 'cos_time'])\n",
    "df = standardize(df, ['velocity']) # standarize the data\n",
    "df = normalize(df, ['velocity'], 0, 1) # normalize the data\n",
    "\n",
    "# Split the data into training and testing sets\n",
    "X_train, X_test, y_train, y_test = train_test_split(\n",
    "    df.drop('attack', axis=1), df['attack'], test_size=0.2, random_state=42)\n"
   ]
  },
  {
   "cell_type": "code",
   "execution_count": 56,
   "metadata": {},
   "outputs": [
    {
     "name": "stdout",
     "output_type": "stream",
     "text": [
      "Accuracy: 87.94 %\n"
     ]
    }
   ],
   "source": [
    "\n",
    "# Create a random forest classifier model\n",
    "rf = RandomForestClassifier(n_estimators=100, random_state=42)\n",
    "\n",
    "# Train the model on the training set\n",
    "rf.fit(X_train, y_train)\n",
    "\n",
    "# Make predictions on the testing set\n",
    "y_pred = rf.predict(X_test)\n",
    "\n",
    "# Evaluate the accuracy of the model\n",
    "accuracy = accuracy_score(y_test, y_pred)\n",
    "print('Accuracy:', round(accuracy*100, 2), \"%\")"
   ]
  },
  {
   "cell_type": "code",
   "execution_count": 62,
   "metadata": {},
   "outputs": [
    {
     "name": "stdout",
     "output_type": "stream",
     "text": [
      "y_test (hva som faktisk har blitt satt):\n",
      " 0    21959\n",
      "1     2136\n",
      "Name: attack, dtype: int64\n",
      "y_pred (hva som er predikert og satt deretter): Counter({0: 22593, 1: 1502})\n"
     ]
    }
   ],
   "source": [
    "y_pred_count = Counter(y_pred)\n",
    "y_test_count = y_test.value_counts()\n",
    "\n",
    "print('y_test (faktisk):\\n', y_test_count)\n",
    "print('y_pred (predikert):', y_pred_count)\n"
   ]
  },
  {
   "cell_type": "code",
   "execution_count": 68,
   "metadata": {},
   "outputs": [
    {
     "name": "stdout",
     "output_type": "stream",
     "text": [
      "              precision    recall  f1-score   support\n",
      "\n",
      "           0       0.92      0.95      0.93     21959\n",
      "           1       0.24      0.17      0.20      2136\n",
      "\n",
      "    accuracy                           0.88     24095\n",
      "   macro avg       0.58      0.56      0.57     24095\n",
      "weighted avg       0.86      0.88      0.87     24095\n",
      "\n"
     ]
    },
    {
     "data": {
      "image/png": "[encoded data removed]",
      "text/plain": [
       "<Figure size 640x480 with 2 Axes>"
      ]
     },
     "metadata": {},
     "output_type": "display_data"
    }
   ],
   "source": [
    "print(classification_report(y_test, y_pred))\n",
    "cm = confusion_matrix(y_test, y_pred, labels=rf.classes_)\n",
    "disp = ConfusionMatrixDisplay(confusion_matrix=cm, display_labels=rf.classes_)\n",
    "\n",
    "disp.plot()\n",
    "plt.show()\n",
    "\n",
    "#True Negative (Top-Left Quadrant)\n",
    "#False Positive (Top-Right Quadrant)\n",
    "#False Negative (Bottom-Left Quadrant)\n",
    "#True Positive (Bottom-Right Quadrant)"
   ]
  },
  {
   "attachments": {},
   "cell_type": "markdown",
   "metadata": {},
   "source": [
    "# All numeric features"
   ]
  },
  {
   "cell_type": "code",
   "execution_count": 94,
   "metadata": {},
   "outputs": [],
   "source": [
    "df2015 = pd.read_csv('../data/kaasa/kaasa_2015.csv', index_col=None, header=0)\n",
    "df2016 = pd.read_csv('../data/kaasa/kaasa_2016.csv', index_col=None, header=0)\n",
    "df2017 = pd.read_csv('../data/kaasa/kaasa_2017.csv', index_col=None, header=0)\n",
    "df2018 = pd.read_csv('../data/kaasa/kaasa_2018.csv', index_col=None, header=0)\n",
    "df2019 = pd.read_csv('../data/kaasa/kaasa_2019.csv', index_col=None, header=0)\n",
    "df2020 = pd.read_csv('../data/kaasa/kaasa_2020.csv', index_col=None, header=0)\n",
    "df2021 = pd.read_csv('../data/kaasa/kaasa_2021.csv', index_col=None, header=0)\n",
    "\n",
    "#attack_files = [df2016, df2017, df2018, df2020]\n",
    "all_files = [df2015, df2016, df2017, df2018, df2019, df2020, df2021]\n",
    "\n",
    "df = pd.concat(all_files, axis=0, ignore_index=True)\n",
    "\n",
    "df['date_time'] = pd.to_datetime(df['date_time'])\n",
    "\n",
    "df = df.drop(columns=['source_id', 'individual', 'owner_id', 'name',  'distance', 'sin_time', 'cos_time', 'date_time',])\n",
    "df = standardize(df, ['velocity', 'longitude', 'latitude', 'temperature', 'altitude']) # standarize the data\n",
    "df = normalize(df, ['velocity', 'longitude', 'latitude', 'temperature', 'altitude'], 0, 1) # normalize the data\n",
    "\n",
    "# Split the data into training and testing sets\n",
    "X_train, X_test, y_train, y_test = train_test_split(\n",
    "    df.drop('attack', axis=1), df['attack'], test_size=0.2, random_state=42)"
   ]
  },
  {
   "cell_type": "code",
   "execution_count": 91,
   "metadata": {},
   "outputs": [
    {
     "name": "stdout",
     "output_type": "stream",
     "text": [
      "Accuracy: 99.36 %\n"
     ]
    }
   ],
   "source": [
    "# Create a random forest classifier model\n",
    "rf = RandomForestClassifier(n_estimators=100, max_depth=10, random_state=42)\n",
    "\n",
    "# Train the model on the training set\n",
    "rf.fit(X_train, y_train)\n",
    "\n",
    "# Make predictions on the testing set\n",
    "y_pred = rf.predict(X_test)\n",
    "\n",
    "# Evaluate the accuracy of the model\n",
    "accuracy = accuracy_score(y_test, y_pred)\n",
    "print('Accuracy:', round(accuracy*100, 2), \"%\")"
   ]
  },
  {
   "cell_type": "code",
   "execution_count": 92,
   "metadata": {},
   "outputs": [
    {
     "name": "stdout",
     "output_type": "stream",
     "text": [
      "y_test (faktisk):\n",
      " 0    45744\n",
      "1     2156\n",
      "Name: attack, dtype: int64\n",
      "y_pred (predikert): Counter({0: 45973, 1: 1927})\n"
     ]
    }
   ],
   "source": [
    "y_pred_count = Counter(y_pred)\n",
    "y_test_count = y_test.value_counts()\n",
    "\n",
    "print('y_test (faktisk):\\n', y_test_count)\n",
    "print('y_pred (predikert):', y_pred_count)"
   ]
  },
  {
   "cell_type": "code",
   "execution_count": 93,
   "metadata": {},
   "outputs": [
    {
     "name": "stdout",
     "output_type": "stream",
     "text": [
      "              precision    recall  f1-score   support\n",
      "\n",
      "           0       0.99      1.00      1.00     45744\n",
      "           1       0.98      0.88      0.92      2156\n",
      "\n",
      "    accuracy                           0.99     47900\n",
      "   macro avg       0.99      0.94      0.96     47900\n",
      "weighted avg       0.99      0.99      0.99     47900\n",
      "\n"
     ]
    },
    {
     "data": {
      "image/png": "[encoded data removed]",
      "text/plain": [
       "<Figure size 640x480 with 2 Axes>"
      ]
     },
     "metadata": {},
     "output_type": "display_data"
    }
   ],
   "source": [
    "print(classification_report(y_test, y_pred))\n",
    "cm = confusion_matrix(y_test, y_pred, labels=rf.classes_)\n",
    "disp = ConfusionMatrixDisplay(confusion_matrix=cm, display_labels=rf.classes_)\n",
    "\n",
    "disp.plot()\n",
    "plt.show()"
   ]
  },
  {
   "cell_type": "code",
   "execution_count": 106,
   "metadata": {},
   "outputs": [
    {
     "name": "stdout",
     "output_type": "stream",
     "text": [
      "        altitude  temperature  date_time  latitude  longitude      velocity\n",
      "111909  0.139655     0.918367   0.491760  0.654424   0.409731  2.827974e-07\n",
      "155056  0.588966     0.344023   0.811912  0.822375   0.651899  3.181471e-06\n",
      "68508   0.089991     0.521866   0.353244  0.724496   0.417557  7.069936e-08\n",
      "127662  0.294600     0.282799   0.669171  0.793436   0.331643  1.322078e-05\n",
      "107134  0.248911     0.084548   0.480608  0.542689   0.372496  7.069936e-08\n",
      "...          ...          ...        ...       ...        ...           ...\n",
      "119879  0.251806     0.472303   0.653926  0.539333   0.371526  1.081700e-05\n",
      "103694  0.160540     0.259475   0.484106  0.657786   0.403952  2.120981e-07\n",
      "131932  0.133557     0.577259   0.656975  0.655282   0.410977  7.069936e-08\n",
      "146867  0.647924     0.536443   0.655593  0.835364   0.634539  3.393569e-06\n",
      "121958  0.134479     0.661808   0.654945  0.656227   0.412053  1.343288e-06\n",
      "\n",
      "[191600 rows x 6 columns]\n"
     ]
    }
   ],
   "source": [
    "print(X_train)\n"
   ]
  },
  {
   "cell_type": "code",
   "execution_count": 107,
   "metadata": {},
   "outputs": [
    {
     "name": "stdout",
     "output_type": "stream",
     "text": [
      "[0.0836965  0.02208696 0.68393459 0.10645298 0.09807653 0.00575244]\n"
     ]
    },
    {
     "data": {
      "image/png": "[encoded data removed]",
      "text/plain": [
       "<Figure size 640x480 with 1 Axes>"
      ]
     },
     "metadata": {},
     "output_type": "display_data"
    }
   ],
   "source": [
    "importances = rf.feature_importances_\n",
    "std = np.std([tree.feature_importances_ for tree in rf.estimators_], axis=0)\n",
    "\n",
    "print(importances)\n",
    "\n",
    "feature_names = [f\"feature {i}\" for i in range(X_train.shape[1])]\n",
    "\n",
    "forest_importances = pd.Series(importances, index=feature_names)\n",
    "\n",
    "fig, ax = plt.subplots()\n",
    "forest_importances.plot.bar(yerr=std, ax=ax)\n",
    "ax.set_title(\"Feature importances using MDI\")\n",
    "ax.set_ylabel(\"Mean decrease in impurity\")\n",
    "fig.tight_layout()"
   ]
  },
  {
   "attachments": {},
   "cell_type": "markdown",
   "metadata": {},
   "source": [
    "# PCA"
   ]
  },
  {
   "cell_type": "code",
   "execution_count": 95,
   "metadata": {},
   "outputs": [],
   "source": [
    "df2015 = pd.read_csv('../data/kaasa/kaasa_2015.csv', index_col=None, header=0)\n",
    "df2016 = pd.read_csv('../data/kaasa/kaasa_2016.csv', index_col=None, header=0)\n",
    "df2017 = pd.read_csv('../data/kaasa/kaasa_2017.csv', index_col=None, header=0)\n",
    "df2018 = pd.read_csv('../data/kaasa/kaasa_2018.csv', index_col=None, header=0)\n",
    "df2019 = pd.read_csv('../data/kaasa/kaasa_2019.csv', index_col=None, header=0)\n",
    "df2020 = pd.read_csv('../data/kaasa/kaasa_2020.csv', index_col=None, header=0)\n",
    "df2021 = pd.read_csv('../data/kaasa/kaasa_2021.csv', index_col=None, header=0)\n",
    "\n",
    "#attack_files = [df2016, df2017, df2018, df2020]\n",
    "all_files = [df2015, df2016, df2017, df2018, df2019, df2020, df2021]\n",
    "\n",
    "df = pd.concat(all_files, axis=0, ignore_index=True)\n",
    "\n",
    "df['date_time'] = pd.to_datetime(df['date_time'])\n",
    "\n",
    "df = df.drop(columns=['source_id', 'individual', 'owner_id', 'name',  'distance', 'sin_time', 'cos_time'])\n",
    "df = standardize(df, ['velocity', 'longitude', 'latitude', 'date_time', 'temperature', 'altitude']) # standarize the data"
   ]
  },
  {
   "cell_type": "code",
   "execution_count": 97,
   "metadata": {},
   "outputs": [
    {
     "name": "stdout",
     "output_type": "stream",
     "text": [
      "Covariance Matrix:\n",
      " [[ 1.00000418  0.12049183  0.59702452  0.42820436  0.50618551  0.0645676\n",
      "  -0.12865735]\n",
      " [ 0.12049183  1.00000418  0.11439435 -0.00841061  0.03056113  0.01749897\n",
      "  -0.0084504 ]\n",
      " [ 0.59702452  0.11439435  1.00000418  0.3376258   0.42165015  0.01844789\n",
      "  -0.18426953]\n",
      " [ 0.42820436 -0.00841061  0.3376258   1.00000418  0.85208372  0.06655804\n",
      "  -0.10085531]\n",
      " [ 0.50618551  0.03056113  0.42165015  0.85208372  1.00000418  0.07670874\n",
      "  -0.0766781 ]\n",
      " [ 0.0645676   0.01749897  0.01844789  0.06655804  0.07670874  1.00000418\n",
      "  -0.01345129]\n",
      " [-0.12865735 -0.0084504  -0.18426953 -0.10085531 -0.0766781  -0.01345129\n",
      "   1.00000418]]\n",
      "Explained Variance Ratio:\n",
      " [0.37666779 0.15444567 0.14323918 0.13959747 0.11025028 0.05576643\n",
      " 0.02003318]\n",
      "Principal Components:\n",
      " [[ 0.47892127  0.07494135  0.43995392  0.50704688  0.53696788  0.07162853\n",
      "  -0.14455818]\n",
      " [-0.20309256 -0.69447381 -0.32043361  0.35568811  0.29212024  0.12005105\n",
      "   0.38408505]\n",
      " [ 0.00955843  0.4220793  -0.09796468 -0.00573604  0.02616804  0.79510196\n",
      "   0.42338614]\n",
      " [-0.04801753 -0.3677712   0.0063974  -0.07487885 -0.10973402  0.57953099\n",
      "  -0.71336749]\n",
      " [ 0.41348497 -0.44491014  0.50931908 -0.38374661 -0.2751802   0.10227076\n",
      "   0.37179874]\n",
      " [-0.74379732  0.02094323  0.65654014  0.06886078  0.06860687  0.04354227\n",
      "   0.06274818]\n",
      " [-0.05278737 -0.01731138 -0.06061328 -0.67730821  0.73018757 -0.00765279\n",
      "  -0.03551017]]\n"
     ]
    }
   ],
   "source": [
    "from sklearn.decomposition import PCA\n",
    "from sklearn.preprocessing import StandardScaler\n",
    "import numpy as np\n",
    "\n",
    "# standardize the data\n",
    "scaler = StandardScaler()\n",
    "scaled_data = scaler.fit_transform(df)\n",
    "\n",
    "# create a PCA object\n",
    "pca = PCA()\n",
    "\n",
    "# fit the data to the model\n",
    "pca.fit(scaled_data)\n",
    "\n",
    "# print the covariance matrix\n",
    "cov_matrix = np.cov(scaled_data.T)\n",
    "print(\"Covariance Matrix:\\n\", cov_matrix)\n",
    "\n",
    "# display the explained variance ratio\n",
    "print(\"Explained Variance Ratio:\\n\", pca.explained_variance_ratio_)\n",
    "\n",
    "# display the principal components\n",
    "print(\"Principal Components:\\n\", pca.components_)"
   ]
  }
 ],
 "metadata": {
  "kernelspec": {
   "display_name": "Python 3",
   "language": "python",
   "name": "python3"
  },
  "language_info": {
   "codemirror_mode": {
    "name": "ipython",
    "version": 3
   },
   "file_extension": ".py",
   "mimetype": "text/x-python",
   "name": "python",
   "nbconvert_exporter": "python",
   "pygments_lexer": "ipython3",
   "version": "3.10.10"
  },
  "orig_nbformat": 4
 },
 "nbformat": 4,
 "nbformat_minor": 2
}
