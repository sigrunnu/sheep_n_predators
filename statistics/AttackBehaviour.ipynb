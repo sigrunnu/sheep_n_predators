{
 "cells": [
  {
   "cell_type": "code",
   "execution_count": 21,
   "metadata": {},
   "outputs": [],
   "source": [
    "from CloseToAttack import calculate_distance\n",
    "from datetime import timedelta\n",
    "import pandas as pd\n",
    "import plotly.express as px\n",
    "import matplotlib.pyplot as plt\n",
    "import seaborn as sb\n",
    "import sys\n",
    "sys.path.append('../rovbase')\n"
   ]
  },
  {
   "cell_type": "code",
   "execution_count": 16,
   "metadata": {},
   "outputs": [],
   "source": [
    "df2015 = pd.read_csv('../data/kaasa/kaasa_2015.csv', index_col=None, header=0)\n",
    "df2016 = pd.read_csv('../data/kaasa/kaasa_2016.csv', index_col=None, header=0)\n",
    "df2017 = pd.read_csv('../data/kaasa/kaasa_2017.csv', index_col=None, header=0)\n",
    "df2018 = pd.read_csv('../data/kaasa/kaasa_2018.csv', index_col=None, header=0)\n",
    "df2019 = pd.read_csv('../data/kaasa/kaasa_2019.csv', index_col=None, header=0)\n",
    "df2020 = pd.read_csv('../data/kaasa/kaasa_2020.csv', index_col=None, header=0)\n",
    "df2021 = pd.read_csv('../data/kaasa/kaasa_2021.csv', index_col=None, header=0)\n",
    "\n",
    "files = [df2015, df2016, df2017, df2018, df2019, df2020, df2021]\n",
    "\n",
    "df = pd.concat(files, axis=0, ignore_index=True)\n",
    "df1 = df.loc[:,['altitude', 'angle', 'velocity', 'temperature', 'attack']]\n",
    "\n",
    "attack_df = df1[df1['attack'] == 1]\n",
    "no_attack_df = df1[df1['attack'] == 0]\n",
    "\n",
    "attack_data = pd.read_csv('../data/rovbase/rovviltskader.csv')\n"
   ]
  },
  {
   "cell_type": "code",
   "execution_count": 4,
   "metadata": {},
   "outputs": [
    {
     "name": "stdout",
     "output_type": "stream",
     "text": [
      "          altitude        angle     velocity  temperature  attack\n",
      "count  3386.000000  3386.000000  3386.000000  3386.000000  3386.0\n",
      "mean    400.976533   103.033831    76.668340    11.703308     1.0\n",
      "std     203.106494    55.881343   125.444268     4.628056     0.0\n",
      "min     185.020000     0.000000     0.000000     0.300000     1.0\n",
      "25%     230.182500    53.554898    10.000000     8.500000     1.0\n",
      "50%     335.085000   112.910731    31.000000    10.900000     1.0\n",
      "75%     482.150000   153.744972    95.000000    14.400000     1.0\n",
      "max     829.240000   180.000000  2338.000000    25.100000     1.0\n"
     ]
    }
   ],
   "source": [
    "print(attack_df.describe())\n",
    "print(attack_df.describe())\n"
   ]
  },
  {
   "cell_type": "code",
   "execution_count": 19,
   "metadata": {},
   "outputs": [],
   "source": [
    "\n",
    "\n",
    "# Create flock that is nearby an attack, return list of individuals in the flock\n",
    "def create_flock(sheep_data, attack):\n",
    "\n",
    "    # Get attack start and end date\n",
    "    attack_start_date = attack['date_from'].date()\n",
    "    attack_end_date = attack['date_to'].date()\n",
    "\n",
    "    # Only sheep in an attack will be in a flock nearby an attack\n",
    "    sheep_data = sheep_data[sheep_data['attack'] == 1]\n",
    "\n",
    "    # Each index corresponds to a row in the sheep data where date is within the attack dates\n",
    "    sheep_indexes = sheep_data.loc[(attack_start_date <= sheep_data['date']) & (\n",
    "        sheep_data['date'] <= attack_end_date)].index\n",
    "\n",
    "    flock = []  # the flock nearby the attack\n",
    "\n",
    "    for sheep in sheep_indexes:\n",
    "        # Get latitude and longitude for sheep and attack\n",
    "        sheep_lat = sheep_data.at[sheep, 'latitude']\n",
    "        sheep_long = sheep_data.at[sheep, 'longitude']\n",
    "        attack_lat = attack['latitude']\n",
    "        attack_long = attack['longitude']\n",
    "\n",
    "        # Calculate the distance from the sheep to the attack\n",
    "        distance_to_attack = calculate_distance(\n",
    "            sheep_lat, sheep_long, attack_lat, attack_long)\n",
    "\n",
    "        if distance_to_attack <= 1500:  # The sheep is nearby the attack\n",
    "            ind = sheep_data.at[sheep, 'individual']\n",
    "            if ind not in flock:\n",
    "                flock.append(ind)\n",
    "\n",
    "    return flock\n"
   ]
  },
  {
   "cell_type": "code",
   "execution_count": 13,
   "metadata": {},
   "outputs": [],
   "source": [
    "# Return empty dataframe with feature-specific dataframe\n",
    "def create_empty_mean_std_df(feature):\n",
    "    mean = 'mean_{f}'.format(f=feature)\n",
    "    std = 'std_{f}'.format(f=feature)\n",
    "    bmean = 'before_mean_{f}'.format(f=feature)\n",
    "    bstd = 'before_std_{f}'.format(f=feature)\n",
    "    amean = 'after_mean_{f}'.format(f=feature)\n",
    "    astd = 'after_std_{f}'.format(f=feature)\n",
    "\n",
    "    # id = rovbaseid, num_ind = number of individs in that attack-flock\n",
    "    df = pd.DataFrame(columns=['id', 'num_ind', mean,\n",
    "                      std, bmean, bstd, amean, astd])\n",
    "    return df\n",
    "\n",
    "# Return a list with all the values for means and std day before, during, and after attack based on feature-param\n",
    "\n",
    "\n",
    "def get_mean_std_values(sheep_data, flock, attack, feature):\n",
    "    attack_start_date = attack['date_from'].date()\n",
    "    attack_end_date = attack['date_to'].date()\n",
    "\n",
    "    day_before = attack_start_date - timedelta(days=1)\n",
    "    day_after = attack_end_date + timedelta(days=1)\n",
    "\n",
    "    on_attack_feature = pd.Series(dtype='int64')\n",
    "    before_feature = pd.Series(dtype='int64')\n",
    "    after_feature = pd.Series(dtype='int64')\n",
    "\n",
    "    for ind in flock:  # Loop through to get the feature from every sheep in the flock before and after attack\n",
    "        on_attack = sheep_data.loc[(attack_start_date <= sheep_data['date']) & (\n",
    "            sheep_data['date'] <= attack_end_date) & (sheep_data['individual'] == ind)]\n",
    "        before = sheep_data.loc[(sheep_data['date'] == day_before) & (\n",
    "            sheep_data['individual'] == ind)]\n",
    "        after = sheep_data.loc[(sheep_data['date'] == day_after) & (\n",
    "            sheep_data['individual'] == ind)]\n",
    "\n",
    "        if len(on_attack) > 0:\n",
    "            on_attack_feature = pd.concat(\n",
    "                [on_attack_feature, on_attack[feature]])\n",
    "        if len(before) > 0:\n",
    "            before_feature = pd.concat([before_feature, before[feature]])\n",
    "        if len(after) > 0:\n",
    "            after_feature = pd.concat([after_feature, after[feature]])\n",
    "\n",
    "    # On attack date\n",
    "    attack_mean = on_attack_feature.mean()\n",
    "    attack_std = on_attack_feature.std()\n",
    "\n",
    "    # On before date\n",
    "    before_mean = before_feature.mean()\n",
    "    before_std = before_feature.std()\n",
    "\n",
    "    # On after date\n",
    "    after_mean = after_feature.mean()\n",
    "    after_std = after_feature.std()\n",
    "\n",
    "    rovId = attack['RovbaseID']\n",
    "\n",
    "    r = [rovId, len(flock), attack_mean, attack_std,\n",
    "         before_mean, before_std, after_mean, after_std]\n",
    "    return r\n"
   ]
  },
  {
   "cell_type": "code",
   "execution_count": 14,
   "metadata": {},
   "outputs": [],
   "source": [
    "def create_mean_std_dfs(sheep_data, attack_data):\n",
    "    attack_data['date_from'] = pd.to_datetime(attack_data['date_from'])\n",
    "    attack_data['date_to'] = pd.to_datetime(attack_data['date_to'])\n",
    "\n",
    "    # create new column with only date\n",
    "    sheep_data['date'] = pd.to_datetime(sheep_data['date_time']).dt.date\n",
    "\n",
    "    velocity_df = create_empty_mean_std_df('velocity')\n",
    "    angle_df = create_empty_mean_std_df('angle')\n",
    "    altitude_df = create_empty_mean_std_df('altitude')\n",
    "\n",
    "    for a in attack_data.index:\n",
    "        attack = attack_data.iloc[a]  # Get attack row\n",
    "        flock = create_flock(sheep_data, attack)\n",
    "\n",
    "        if len(flock) != 0:\n",
    "            new_velocity_row = get_mean_std_values(\n",
    "                sheep_data, flock, attack, 'velocity')\n",
    "            new_angle_row = get_mean_std_values(\n",
    "                sheep_data, flock, attack, 'angle')\n",
    "            new_altitude_row = get_mean_std_values(\n",
    "                sheep_data, flock, attack, 'altitude')\n",
    "            velocity_df.loc[len(velocity_df.index)] = new_velocity_row\n",
    "            angle_df.loc[len(angle_df.index)] = new_angle_row\n",
    "            altitude_df.loc[len(altitude_df.index)] = new_altitude_row\n",
    "\n",
    "    return velocity_df, angle_df, altitude_df\n"
   ]
  },
  {
   "cell_type": "code",
   "execution_count": 15,
   "metadata": {},
   "outputs": [],
   "source": [
    "def create_means(df_flokk, feature):\n",
    "    before = 'before_{feature}'.format(feature=feature)\n",
    "    after = 'after_{feature}'.format(feature=feature)\n",
    "\n",
    "    org_mean = df_flokk[feature].mean()\n",
    "    before_mean = df_flokk[before].mean()\n",
    "    after_mean = df_flokk[after].mean()\n",
    "    return [before_mean, org_mean, after_mean]\n",
    "\n",
    "\n",
    "def create_stdev(df_flokk, feature):\n",
    "    before = 'before_{feature}'.format(feature=feature)\n",
    "    after = 'after_{feature}'.format(feature=feature)\n",
    "\n",
    "    org_stdev = df_flokk[feature].std()\n",
    "    before_stdev = df_flokk[before].std()\n",
    "    after_stdev = df_flokk[after].std()\n",
    "    return [before_stdev, org_stdev, after_stdev]\n",
    "\n",
    "\n",
    "def create_fig(list, year, feature, text):\n",
    "    print(list)\n",
    "    fig = px.bar(list, width=800, height=500, title='{text} {feature} for the day before, during and after attack for {year}'.format(\n",
    "        text=text, feature=feature, year=year))\n",
    "    fig.update_layout(\n",
    "        xaxis_title=\"Dager\",\n",
    "        yaxis_title=\"{text} {feature}\".format(text=text, feature=feature),\n",
    "        xaxis=dict(\n",
    "            tickmode='array',\n",
    "            tickvals=[0, 1, 2],\n",
    "            ticktext=['før', 'angrepsdagen', 'etter']\n",
    "        )\n",
    "    )\n",
    "    fig.show()\n"
   ]
  },
  {
   "attachments": {},
   "cell_type": "markdown",
   "metadata": {},
   "source": [
    "# For all data"
   ]
  },
  {
   "cell_type": "code",
   "execution_count": 20,
   "metadata": {},
   "outputs": [],
   "source": [
    "velocity_df, angle_df, altitude_df = create_mean_std_dfs(\n",
    "    sheep_data=df, attack_data=attack_data)\n"
   ]
  },
  {
   "cell_type": "code",
   "execution_count": 22,
   "metadata": {},
   "outputs": [],
   "source": [
    "velocity_df = velocity_df.drop_duplicates(['num_ind', 'mean_velocity', 'std_velocity', 'before_mean_velocity',\n",
    "                                          'before_std_velocity', 'after_mean_velocity', 'after_std_velocity'], ignore_index=True)\n",
    "angle_df = angle_df.drop_duplicates(['num_ind', 'mean_angle', 'std_angle', 'before_mean_angle',\n",
    "                                    'before_std_angle', 'after_mean_angle', 'after_std_angle'], ignore_index=True)\n",
    "altitude_df = altitude_df.drop_duplicates(['num_ind',  'mean_altitude', 'std_altitude', 'before_mean_altitude',\n",
    "                                          'before_std_altitude', 'after_mean_altitude', 'after_std_altitude'], ignore_index=True)\n"
   ]
  },
  {
   "attachments": {},
   "cell_type": "markdown",
   "metadata": {},
   "source": [
    "## Velocity"
   ]
  },
  {
   "cell_type": "code",
   "execution_count": 23,
   "metadata": {},
   "outputs": [
    {
     "data": {
      "text/plain": [
       "Text(0, 0.5, 'Velocity')"
      ]
     },
     "execution_count": 23,
     "metadata": {},
     "output_type": "execute_result"
    },
    {
     "data": {
      "image/png": "[encoded data removed]",
      "text/plain": [
       "<Figure size 640x480 with 1 Axes>"
      ]
     },
     "metadata": {},
     "output_type": "display_data"
    }
   ],
   "source": [
    "vel = velocity_df.loc[:, ['before_mean_velocity',\n",
    "                          'mean_velocity', 'after_mean_velocity']]\n",
    "vel = vel.rename(columns={\n",
    "                 'before_mean_velocity': 'before', 'mean_velocity': 'during', 'after_mean_velocity': 'after'})\n",
    "\n",
    "\n",
    "ax = sb.boxplot(data=vel,\n",
    "                showfliers=False, showmeans=True, color=\"White\")\n",
    "ax.set_ylabel('Velocity')\n"
   ]
  },
  {
   "attachments": {},
   "cell_type": "markdown",
   "metadata": {},
   "source": [
    "# Angle"
   ]
  },
  {
   "cell_type": "code",
   "execution_count": 25,
   "metadata": {},
   "outputs": [
    {
     "data": {
      "text/plain": [
       "Text(0, 0.5, 'Angle')"
      ]
     },
     "execution_count": 25,
     "metadata": {},
     "output_type": "execute_result"
    },
    {
     "data": {
      "image/png": "[encoded data removed]",
      "text/plain": [
       "<Figure size 640x480 with 1 Axes>"
      ]
     },
     "metadata": {},
     "output_type": "display_data"
    }
   ],
   "source": [
    "angle = angle_df.loc[:, ['before_mean_angle',\n",
    "                         'mean_angle', 'after_mean_angle']]\n",
    "angle = angle.rename(columns={\n",
    "    'before_mean_angle': 'before', 'mean_angle': 'during', 'after_mean_angle': 'after'})\n",
    "\n",
    "\n",
    "ax = sb.boxplot(data=angle,\n",
    "                showfliers=False, showmeans=True, color=\"White\")\n",
    "ax.set_ylabel('Angle')\n"
   ]
  },
  {
   "attachments": {},
   "cell_type": "markdown",
   "metadata": {},
   "source": [
    "# Altitude"
   ]
  },
  {
   "cell_type": "code",
   "execution_count": 24,
   "metadata": {},
   "outputs": [
    {
     "data": {
      "text/plain": [
       "Text(0, 0.5, 'Altitude')"
      ]
     },
     "execution_count": 24,
     "metadata": {},
     "output_type": "execute_result"
    },
    {
     "data": {
      "image/png": "[encoded data removed]",
      "text/plain": [
       "<Figure size 640x480 with 1 Axes>"
      ]
     },
     "metadata": {},
     "output_type": "display_data"
    }
   ],
   "source": [
    "altitude = altitude_df.loc[:, ['before_mean_altitude',\n",
    "                               'mean_altitude', 'after_mean_altitude']]\n",
    "altitude = altitude.rename(columns={\n",
    "    'before_mean_altitude': 'before', 'mean_altitude': 'during', 'after_mean_altitude': 'after'})\n",
    "\n",
    "ax = sb.boxplot(data=altitude,\n",
    "                showfliers=False, showmeans=True, color=\"White\")\n",
    "ax.set_ylabel('Altitude')\n"
   ]
  }
 ],
 "metadata": {
  "kernelspec": {
   "display_name": "Python 3",
   "language": "python",
   "name": "python3"
  },
  "language_info": {
   "codemirror_mode": {
    "name": "ipython",
    "version": 3
   },
   "file_extension": ".py",
   "mimetype": "text/x-python",
   "name": "python",
   "nbconvert_exporter": "python",
   "pygments_lexer": "ipython3",
   "version": "3.10.6"
  },
  "orig_nbformat": 4
 },
 "nbformat": 4,
 "nbformat_minor": 2
}
